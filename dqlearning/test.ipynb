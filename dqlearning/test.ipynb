{
 "cells": [
  {
   "cell_type": "code",
   "execution_count": 84,
   "metadata": {},
   "outputs": [],
   "source": [
    "import numpy as np\n",
    "from enviroment import Enviroment\n",
    "\n",
    "#************************************************************\n",
    "#Configurações dos parâmetros gamma e alpha para o Q-Learning\n",
    "#************************************************************\n",
    "\n",
    "#fator de desconto\n",
    "gamma = 0.75\n",
    "#taxa de aprendizagem\n",
    "alpha = 0.9"
   ]
  },
  {
   "cell_type": "code",
   "execution_count": 4,
   "metadata": {},
   "outputs": [],
   "source": [
    "subfases = {'ferrovia': 0,\n",
    "            'hidro_alt': 1,\n",
    "            'via_deslocamento': 2,\n",
    "            'elementos_varios': 3,\n",
    "            'limites_especiais': 4,\n",
    "            'toponimos': 5,\n",
    "            'area_edificada': 6,\n",
    "            'planimetria': 7,\n",
    "            'vegetacao': 8,\n",
    "            'cq_tematico':  9,\n",
    "            'validacao': 10,\n",
    "            'edicao': 11           \n",
    "        }\n",
    "\n",
    "acoes = [0,1,2,3,4,5,6,7,8,9,10,11]"
   ]
  },
  {
   "cell_type": "code",
   "execution_count": 113,
   "metadata": {},
   "outputs": [],
   "source": [
    "operadores = {'Gabriel': {'conhecimentos': [(0,1),(1,1.5),(2,0.5),(3,1)]},\n",
    "              'Fabio': {'conhecimentos': [(0,2),(1,1),(2,1.5),(3,0)]}}"
   ]
  },
  {
   "cell_type": "code",
   "execution_count": 114,
   "metadata": {},
   "outputs": [],
   "source": [
    "aptos = []\n",
    "for i in operadores:\n",
    "    if operadores[i]['conhecimentos'][3][1]>0:\n",
    "        aptos.append(i)"
   ]
  },
  {
   "cell_type": "code",
   "execution_count": 56,
   "metadata": {},
   "outputs": [],
   "source": [
    "r = np.array([[0,1,1,0,0,0,0,0,0,0,0,0],\n",
    "              [1,0,0,0,0,10,0,0,0,0,0,0],\n",
    "              [0,1,0,0,0,0,0,0,0,0,0,0],\n",
    "              [0,0,0,0,0,0,0,0,0,0,0,0],\n",
    "              [0,0,0,0,0,0,0,0,0,0,0,0],\n",
    "              [0,0,0,0,0,0,0,0,0,0,0,0],\n",
    "              [0,0,0,0,0,0,0,0,0,0,0,0],\n",
    "              [0,0,0,0,0,0,0,0,0,0,0,0],\n",
    "              [0,0,0,0,0,0,0,0,0,0,0,0],\n",
    "              [0,0,0,0,0,0,0,0,0,0,0,0],\n",
    "              [0,0,0,0,0,0,0,0,0,0,0,0],\n",
    "              [0,0,0,0,0,0,0,0,0,0,0,0]])"
   ]
  },
  {
   "cell_type": "code",
   "execution_count": null,
   "metadata": {},
   "outputs": [],
   "source": [
    "for i in range(0,10000):\n",
    "    \n"
   ]
  },
  {
   "cell_type": "code",
   "execution_count": 46,
   "metadata": {},
   "outputs": [],
   "source": [
    "Q = np.array(np.zeros([12,12]))\n",
    "\n",
    "#inicializacao random\n",
    "for i in range(0,10000):\n",
    "    estado_atual = np.random.randint(0, 2)\n",
    "    acao_possivel = []\n",
    "    for j in range(12):\n",
    "        if r[estado_atual, j] > 0:\n",
    "            acao_possivel.append(j)\n",
    "    proximo_estado = np.random.choice(acao_possivel)\n",
    "    \n",
    "    #Diferença temporal\n",
    "    TD = r[estado_atual, proximo_estado] + gamma*Q[proximo_estado, np.argmax(Q[proximo_estado])] - Q[estado_atual, proximo_estado]\n",
    "    \n",
    "    #Atualizacao de Q pela equacao de Bellman\n",
    "    Q[estado_atual,proximo_estado] = Q[estado_atual,proximo_estado] + alpha*TD"
   ]
  },
  {
   "cell_type": "code",
   "execution_count": 47,
   "metadata": {},
   "outputs": [
    {
     "data": {
      "text/plain": [
       "array([[ 0,  8,  1,  0,  0,  0,  0,  0,  0,  0,  0,  0],\n",
       "       [ 7,  0,  0,  0,  0, 10,  0,  0,  0,  0,  0,  0],\n",
       "       [ 0,  0,  0,  0,  0,  0,  0,  0,  0,  0,  0,  0],\n",
       "       [ 0,  0,  0,  0,  0,  0,  0,  0,  0,  0,  0,  0],\n",
       "       [ 0,  0,  0,  0,  0,  0,  0,  0,  0,  0,  0,  0],\n",
       "       [ 0,  0,  0,  0,  0,  0,  0,  0,  0,  0,  0,  0],\n",
       "       [ 0,  0,  0,  0,  0,  0,  0,  0,  0,  0,  0,  0],\n",
       "       [ 0,  0,  0,  0,  0,  0,  0,  0,  0,  0,  0,  0],\n",
       "       [ 0,  0,  0,  0,  0,  0,  0,  0,  0,  0,  0,  0],\n",
       "       [ 0,  0,  0,  0,  0,  0,  0,  0,  0,  0,  0,  0],\n",
       "       [ 0,  0,  0,  0,  0,  0,  0,  0,  0,  0,  0,  0],\n",
       "       [ 0,  0,  0,  0,  0,  0,  0,  0,  0,  0,  0,  0]])"
      ]
     },
     "execution_count": 47,
     "metadata": {},
     "output_type": "execute_result"
    }
   ],
   "source": [
    "Q.astype(int)"
   ]
  },
  {
   "cell_type": "code",
   "execution_count": null,
   "metadata": {},
   "outputs": [],
   "source": []
  }
 ],
 "metadata": {
  "interpreter": {
   "hash": "2a89ebda5b1df6869a80ed231ce3cbd82800ba4c96516904a7ea152290f5b260"
  },
  "kernelspec": {
   "display_name": "Python 3.8.8 64-bit ('base': conda)",
   "name": "python3"
  },
  "language_info": {
   "codemirror_mode": {
    "name": "ipython",
    "version": 3
   },
   "file_extension": ".py",
   "mimetype": "text/x-python",
   "name": "python",
   "nbconvert_exporter": "python",
   "pygments_lexer": "ipython3",
   "version": "3.8.8"
  },
  "orig_nbformat": 4
 },
 "nbformat": 4,
 "nbformat_minor": 2
}
