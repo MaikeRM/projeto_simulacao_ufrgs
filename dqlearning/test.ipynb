{
 "cells": [
  {
   "cell_type": "code",
   "execution_count": 154,
   "metadata": {},
   "outputs": [],
   "source": [
    "funcionarios = [{'nome': 'Danilo','numero': 0, 'habilidades': [1,3,4,5,6,7,9]},\n",
    "                {'nome': 'Paulo', 'numero': 1, 'habilidades': [1,3,4,5,6,7,9]},\n",
    "                {'nome': 'Andre', 'numero': 2, 'habilidades': [2,8,9]},\n",
    "                {'nome': 'Castro', 'numero': 3, 'habilidades': [0,3,4,5,6,7,9,10]},\n",
    "                {'nome': 'Gustavo Ramos', 'numero':4, 'habilidades': [1,2,8,9,10]},\n",
    "                {'nome': 'Henrique Pires', 'numero':5, 'habilidades': [2,8]},\n",
    "                {'nome': 'Viana', 'numero': 6,'habilidades': [1,2,8]},\n",
    "                {'nome': 'Mendonca', 'numero': 7, 'habilidades': [2,8]},\n",
    "                {'nome': 'Rute Daniela', 'numero': 8, 'habilidades': [1,2,8]},\n",
    "                {'nome': 'Cialla', 'numero': 9, 'habilidades': [1,2,8]},\n",
    "                {'nome': 'Colleto', 'numero': 10, 'habilidades': [1,2]},\n",
    "                {'nome': 'Fachi', 'numero': 11, 'habilidades': [10,11]},\n",
    "                {'nome': 'Ana Luiza', 'numero': 12, 'habilidades': [10,11]}]"
   ]
  },
  {
   "cell_type": "code",
   "execution_count": 33,
   "metadata": {},
   "outputs": [],
   "source": [
    "subfases = {'ferrovia':0,\n",
    "            'hidrografia':1,\n",
    "            'via_deslocamento':2,\n",
    "            'elementos_varios':3,\n",
    "            'limites_especiais':4,\n",
    "            'toponimos':5,\n",
    "            'area_edificada':6,\n",
    "            'planimetria':7,\n",
    "            'vegetacao':8,\n",
    "            'cq_tematica':9,\n",
    "            'validacao':10,\n",
    "            'edicao':11}"
   ]
  },
  {
   "cell_type": "code",
   "execution_count": 121,
   "metadata": {},
   "outputs": [],
   "source": [
    "tipo_1 = 54\n",
    "tipo_2 = 208\n",
    "ferrovia = {'media_horas':1,'std_horas': 4, 'tipo': tipo_1, 'autorizado': 1, 'finalizado':0}\n",
    "hidro_alt = {'media_horas':28,'std_horas': 7, 'tipo': tipo_1, 'autorizado': 1, 'finalizado':0}\n",
    "via_deslocamento = {'media_horas':18,'std_horas': 4, 'tipo': tipo_1, 'autorizado': 0, 'finalizado':0}\n",
    "elementos_varios = {'media_horas':3,'std_horas': 1, 'tipo': tipo_1, 'autorizado': 0, 'finalizado':0}\n",
    "limites_especiais = {'media_horas':1,'std_horas': 3, 'tipo': tipo_2, 'autorizado': 0, 'finalizado':0}\n",
    "toponimos = {'media_horas':4,'std_horas': 1, 'tipo': tipo_2, 'autorizado': 0, 'finalizado':0}\n",
    "area_edificada = {'media_horas':1,'std_horas': 4, 'tipo': tipo_1, 'autorizado': 0, 'finalizado':0}\n",
    "planimetria = {'media_horas':15,'std_horas': 5, 'tipo': tipo_1, 'autorizado': 0, 'finalizado':0}\n",
    "vegetacao = {'media_horas':32,'std_horas': 5, 'tipo': tipo_1, 'autorizado': 0, 'finalizado':0}\n",
    "cq_tematico = {'media_horas':14,'std_horas': 4, 'tipo': tipo_2, 'autorizado': 0, 'finalizado':0}\n",
    "validacao = {'media_horas':9,'std_horas': 3, 'tipo': tipo_2, 'autorizado': 0, 'finalizado':0}\n",
    "edicao = {'media_horas':18,'std_horas': 3, 'tipo': tipo_2, 'autorizado': 0, 'finalizado':0}\n",
    "tarefas_iniciais = ferrovia, hidro_alt"
   ]
  },
  {
   "cell_type": "code",
   "execution_count": 94,
   "metadata": {},
   "outputs": [
    {
     "data": {
      "text/plain": [
       "array([ 3, 11,  4])"
      ]
     },
     "execution_count": 94,
     "metadata": {},
     "output_type": "execute_result"
    }
   ],
   "source": [
    "escalados = []\n",
    "for i in range(len(funcionarios)):\n",
    "    if 10 in funcionarios[i]['habilidades']:\n",
    "        escalados.append(funcionarios[i]['numero'])\n",
    "\n",
    "np.random.choice(escalados, size=np.random.randint(1, len(escalados)), replace=False)"
   ]
  },
  {
   "cell_type": "code",
   "execution_count": 106,
   "metadata": {},
   "outputs": [],
   "source": [
    "import numpy as np\n",
    "num_samples = 3\n",
    "desired_mean = 1.0\n",
    "desired_std_dev = 4.0\n",
    "\n",
    "samples = abs(np.random.normal(loc=0.0, scale=desired_std_dev, size=num_samples))"
   ]
  },
  {
   "cell_type": "code",
   "execution_count": 115,
   "metadata": {},
   "outputs": [
    {
     "data": {
      "text/plain": [
       "array([4.37370877, 5.76645989, 1.08246064])"
      ]
     },
     "execution_count": 115,
     "metadata": {},
     "output_type": "execute_result"
    }
   ],
   "source": [
    "mu, sigma = 1, 4\n",
    "abs(np.random.normal(mu, sigma, 3))"
   ]
  },
  {
   "cell_type": "code",
   "execution_count": 164,
   "metadata": {},
   "outputs": [],
   "source": [
    "if ferrovia['autorizado'] == 1:\n",
    "    escalados_ferrovia = []\n",
    "    for i in range(len(funcionarios)):\n",
    "        if subfases['ferrovia'] in funcionarios[i]['habilidades']:\n",
    "            escalados_ferrovia.append(funcionarios[i]['numero'])\n",
    "    qtd_escalados = np.random.choice(escalados_ferrovia, size=np.random.randint(0, len(escalados_ferrovia)), replace=False)\n",
    "    mu, sigma = ferrovia['media_horas'], ferrovia['std_horas']\n",
    "    tempo_ferrovia = abs(np.random.normal(mu, sigma, qtd_escalados))"
   ]
  }
 ],
 "metadata": {
  "interpreter": {
   "hash": "b3d3522493934ff0138aee2c6dff330d5dccf278757c2f33119be5c9d92446bf"
  },
  "kernelspec": {
   "display_name": "Python 3.9.5 64-bit",
   "name": "python3"
  },
  "language_info": {
   "codemirror_mode": {
    "name": "ipython",
    "version": 3
   },
   "file_extension": ".py",
   "mimetype": "text/x-python",
   "name": "python",
   "nbconvert_exporter": "python",
   "pygments_lexer": "ipython3",
   "version": "3.9.5"
  },
  "orig_nbformat": 4
 },
 "nbformat": 4,
 "nbformat_minor": 2
}
