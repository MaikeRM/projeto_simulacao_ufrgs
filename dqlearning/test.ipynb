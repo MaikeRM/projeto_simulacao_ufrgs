{
 "cells": [
  {
   "cell_type": "code",
   "execution_count": 16,
   "metadata": {},
   "outputs": [],
   "source": [
    "funcionarios = [{'nome': 'Danilo','numero': 0, 'habilidades': [1,3,4,5,6,7,9]},\n",
    "                {'nome': 'Paulo', 'numero': 1, 'habilidades': [1,3,4,5,6,7,9]},\n",
    "                {'nome': 'Andre', 'numero': 2, 'habilidades': [2,8,9]},\n",
    "                {'nome': 'Castro', 'numero': 3, 'habilidades': [0,3,4,5,6,7,9,10]},\n",
    "                {'nome': 'Gustavo Ramos', 'numero':4, 'habilidades': [1,2,8,9,10]},\n",
    "                {'nome': 'Henrique Pires', 'numero':5, 'habilidades': [2,8]},\n",
    "                {'nome': 'Viana', 'numero': 6,'habilidades': [1,2,8]},\n",
    "                {'nome': 'Mendonca', 'numero': 7, 'habilidades': [2,8]},\n",
    "                {'nome': 'Rute Daniela', 'numero': 8, 'habilidades': [1,2,8]},\n",
    "                {'nome': 'Cialla', 'numero': 9, 'habilidades': [1,2,8]},\n",
    "                {'nome': 'Colleto', 'numero': 10, 'habilidades': [1,2]},\n",
    "                {'nome': 'Fachi', 'numero': 11, 'habilidades': [10,11]},\n",
    "                {'nome': 'Ana Luiza', 'numero': 12, 'habilidades': [10,11]}]"
   ]
  },
  {
   "cell_type": "code",
   "execution_count": 33,
   "metadata": {},
   "outputs": [],
   "source": [
    "subfases = {'ferrovia':0,\n",
    "            'hidrografia':1,\n",
    "            'via_deslocamento':2,\n",
    "            'elementos_varios':3,\n",
    "            'limites_especiais':4,\n",
    "            'toponimos':5,\n",
    "            'area_edificada':6,\n",
    "            'planimetria':7,\n",
    "            'vegetacao':8,\n",
    "            'cq_tematica':9,\n",
    "            'validacao':10,\n",
    "            'edicao':11}"
   ]
  },
  {
   "cell_type": "code",
   "execution_count": 31,
   "metadata": {},
   "outputs": [],
   "source": [
    "escalados = []\n",
    "for i in range(len(funcionarios)):\n",
    "    if 10 in funcionarios[i]['habilidades']:\n",
    "        escalados.append(funcionarios[i]['numero'])"
   ]
  },
  {
   "cell_type": "code",
   "execution_count": 32,
   "metadata": {},
   "outputs": [
    {
     "data": {
      "text/plain": [
       "[3, 4, 11, 12]"
      ]
     },
     "execution_count": 32,
     "metadata": {},
     "output_type": "execute_result"
    }
   ],
   "source": [
    "escalados"
   ]
  },
  {
   "cell_type": "code",
   "execution_count": 35,
   "metadata": {},
   "outputs": [
    {
     "data": {
      "text/plain": [
       "0"
      ]
     },
     "execution_count": 35,
     "metadata": {},
     "output_type": "execute_result"
    }
   ],
   "source": [
    "subfases['ferrovia']"
   ]
  },
  {
   "cell_type": "code",
   "execution_count": null,
   "metadata": {},
   "outputs": [],
   "source": []
  }
 ],
 "metadata": {
  "interpreter": {
   "hash": "b3d3522493934ff0138aee2c6dff330d5dccf278757c2f33119be5c9d92446bf"
  },
  "kernelspec": {
   "display_name": "Python 3.9.5 64-bit",
   "name": "python3"
  },
  "language_info": {
   "codemirror_mode": {
    "name": "ipython",
    "version": 3
   },
   "file_extension": ".py",
   "mimetype": "text/x-python",
   "name": "python",
   "nbconvert_exporter": "python",
   "pygments_lexer": "ipython3",
   "version": "3.9.5"
  },
  "orig_nbformat": 4
 },
 "nbformat": 4,
 "nbformat_minor": 2
}
