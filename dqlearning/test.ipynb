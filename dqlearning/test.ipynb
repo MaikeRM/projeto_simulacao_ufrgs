{
 "cells": [
  {
   "cell_type": "code",
<<<<<<< HEAD
   "execution_count": 84,
   "metadata": {},
   "outputs": [],
   "source": [
    "import numpy as np\n",
    "from enviroment import Enviroment\n",
    "\n",
    "#************************************************************\n",
    "#Configurações dos parâmetros gamma e alpha para o Q-Learning\n",
    "#************************************************************\n",
    "\n",
    "#fator de desconto\n",
    "gamma = 0.75\n",
    "#taxa de aprendizagem\n",
    "alpha = 0.9"
=======
   "execution_count": 154,
   "metadata": {},
   "outputs": [],
   "source": [
    "funcionarios = [{'nome': 'Danilo','numero': 0, 'habilidades': [1,3,4,5,6,7,9]},\n",
    "                {'nome': 'Paulo', 'numero': 1, 'habilidades': [1,3,4,5,6,7,9]},\n",
    "                {'nome': 'Andre', 'numero': 2, 'habilidades': [2,8,9]},\n",
    "                {'nome': 'Castro', 'numero': 3, 'habilidades': [0,3,4,5,6,7,9,10]},\n",
    "                {'nome': 'Gustavo Ramos', 'numero':4, 'habilidades': [1,2,8,9,10]},\n",
    "                {'nome': 'Henrique Pires', 'numero':5, 'habilidades': [2,8]},\n",
    "                {'nome': 'Viana', 'numero': 6,'habilidades': [1,2,8]},\n",
    "                {'nome': 'Mendonca', 'numero': 7, 'habilidades': [2,8]},\n",
    "                {'nome': 'Rute Daniela', 'numero': 8, 'habilidades': [1,2,8]},\n",
    "                {'nome': 'Cialla', 'numero': 9, 'habilidades': [1,2,8]},\n",
    "                {'nome': 'Colleto', 'numero': 10, 'habilidades': [1,2]},\n",
    "                {'nome': 'Fachi', 'numero': 11, 'habilidades': [10,11]},\n",
    "                {'nome': 'Ana Luiza', 'numero': 12, 'habilidades': [10,11]}]"
>>>>>>> d41d165471f9ba7d4c21e3e0cfdc9450b1019df3
   ]
  },
  {
   "cell_type": "code",
<<<<<<< HEAD
   "execution_count": 4,
   "metadata": {},
   "outputs": [],
   "source": [
    "subfases = {'ferrovia': 0,\n",
    "            'hidro_alt': 1,\n",
    "            'via_deslocamento': 2,\n",
    "            'elementos_varios': 3,\n",
    "            'limites_especiais': 4,\n",
    "            'toponimos': 5,\n",
    "            'area_edificada': 6,\n",
    "            'planimetria': 7,\n",
    "            'vegetacao': 8,\n",
    "            'cq_tematico':  9,\n",
    "            'validacao': 10,\n",
    "            'edicao': 11           \n",
    "        }\n",
    "\n",
    "acoes = [0,1,2,3,4,5,6,7,8,9,10,11]"
=======
   "execution_count": 33,
   "metadata": {},
   "outputs": [],
   "source": [
    "subfases = {'ferrovia':0,\n",
    "            'hidrografia':1,\n",
    "            'via_deslocamento':2,\n",
    "            'elementos_varios':3,\n",
    "            'limites_especiais':4,\n",
    "            'toponimos':5,\n",
    "            'area_edificada':6,\n",
    "            'planimetria':7,\n",
    "            'vegetacao':8,\n",
    "            'cq_tematica':9,\n",
    "            'validacao':10,\n",
    "            'edicao':11}"
   ]
  },
  {
   "cell_type": "code",
   "execution_count": 121,
   "metadata": {},
   "outputs": [],
   "source": [
    "tipo_1 = 54\n",
    "tipo_2 = 208\n",
    "ferrovia = {'media_horas':1,'std_horas': 4, 'tipo': tipo_1, 'autorizado': 1, 'finalizado':0}\n",
    "hidro_alt = {'media_horas':28,'std_horas': 7, 'tipo': tipo_1, 'autorizado': 1, 'finalizado':0}\n",
    "via_deslocamento = {'media_horas':18,'std_horas': 4, 'tipo': tipo_1, 'autorizado': 0, 'finalizado':0}\n",
    "elementos_varios = {'media_horas':3,'std_horas': 1, 'tipo': tipo_1, 'autorizado': 0, 'finalizado':0}\n",
    "limites_especiais = {'media_horas':1,'std_horas': 3, 'tipo': tipo_2, 'autorizado': 0, 'finalizado':0}\n",
    "toponimos = {'media_horas':4,'std_horas': 1, 'tipo': tipo_2, 'autorizado': 0, 'finalizado':0}\n",
    "area_edificada = {'media_horas':1,'std_horas': 4, 'tipo': tipo_1, 'autorizado': 0, 'finalizado':0}\n",
    "planimetria = {'media_horas':15,'std_horas': 5, 'tipo': tipo_1, 'autorizado': 0, 'finalizado':0}\n",
    "vegetacao = {'media_horas':32,'std_horas': 5, 'tipo': tipo_1, 'autorizado': 0, 'finalizado':0}\n",
    "cq_tematico = {'media_horas':14,'std_horas': 4, 'tipo': tipo_2, 'autorizado': 0, 'finalizado':0}\n",
    "validacao = {'media_horas':9,'std_horas': 3, 'tipo': tipo_2, 'autorizado': 0, 'finalizado':0}\n",
    "edicao = {'media_horas':18,'std_horas': 3, 'tipo': tipo_2, 'autorizado': 0, 'finalizado':0}\n",
    "tarefas_iniciais = ferrovia, hidro_alt"
   ]
  },
  {
   "cell_type": "code",
   "execution_count": 312,
   "metadata": {},
   "outputs": [],
   "source": [
    "tempo_total = {'ferrovia': 0,\n",
    "                'hidrografia': 0,\n",
    "                'via_deslocamento': 0,\n",
    "                'elementos_varios': 0,\n",
    "                'limites_especiais': 0,\n",
    "                'toponimos': 0,\n",
    "                'area_edificada': 0,\n",
    "                'planimetria': 0,\n",
    "                'vegetacao': 0,\n",
    "                'cq_tematica': 0,\n",
    "                'validacao': 0,\n",
    "                'edicao': 0}"
   ]
  },
  {
   "cell_type": "code",
   "execution_count": 228,
   "metadata": {},
   "outputs": [
    {
     "data": {
      "text/plain": [
       "array([ 1,  0,  8, 10,  9,  4])"
      ]
     },
     "execution_count": 228,
     "metadata": {},
     "output_type": "execute_result"
    }
   ],
   "source": [
    "escalados = []\n",
    "for i in range(len(funcionarios)):\n",
    "    if 1 in funcionarios[i]['habilidades']:\n",
    "        escalados.append(funcionarios[i]['numero'])\n",
    "\n",
    "np.random.choice(escalados, size=np.random.randint(0, len(escalados)), replace=False)"
>>>>>>> d41d165471f9ba7d4c21e3e0cfdc9450b1019df3
   ]
  },
  {
   "cell_type": "code",
<<<<<<< HEAD
   "execution_count": 113,
   "metadata": {},
   "outputs": [],
   "source": [
    "operadores = {'Gabriel': {'conhecimentos': [(0,1),(1,1.5),(2,0.5),(3,1)]},\n",
    "              'Fabio': {'conhecimentos': [(0,2),(1,1),(2,1.5),(3,0)]}}"
   ]
  },
  {
   "cell_type": "code",
   "execution_count": 114,
   "metadata": {},
   "outputs": [],
   "source": [
    "aptos = []\n",
    "for i in operadores:\n",
    "    if operadores[i]['conhecimentos'][3][1]>0:\n",
    "        aptos.append(i)"
   ]
  },
  {
   "cell_type": "code",
   "execution_count": 56,
   "metadata": {},
   "outputs": [],
   "source": [
    "r = np.array([[0,1,1,0,0,0,0,0,0,0,0,0],\n",
    "              [1,0,0,0,0,10,0,0,0,0,0,0],\n",
    "              [0,1,0,0,0,0,0,0,0,0,0,0],\n",
    "              [0,0,0,0,0,0,0,0,0,0,0,0],\n",
    "              [0,0,0,0,0,0,0,0,0,0,0,0],\n",
    "              [0,0,0,0,0,0,0,0,0,0,0,0],\n",
    "              [0,0,0,0,0,0,0,0,0,0,0,0],\n",
    "              [0,0,0,0,0,0,0,0,0,0,0,0],\n",
    "              [0,0,0,0,0,0,0,0,0,0,0,0],\n",
    "              [0,0,0,0,0,0,0,0,0,0,0,0],\n",
    "              [0,0,0,0,0,0,0,0,0,0,0,0],\n",
    "              [0,0,0,0,0,0,0,0,0,0,0,0]])"
   ]
  },
  {
   "cell_type": "code",
   "execution_count": null,
   "metadata": {},
   "outputs": [],
   "source": [
    "for i in range(0,10000):\n",
    "    \n"
   ]
  },
  {
   "cell_type": "code",
   "execution_count": 46,
   "metadata": {},
   "outputs": [],
   "source": [
    "Q = np.array(np.zeros([12,12]))\n",
    "\n",
    "#inicializacao random\n",
    "for i in range(0,10000):\n",
    "    estado_atual = np.random.randint(0, 2)\n",
    "    acao_possivel = []\n",
    "    for j in range(12):\n",
    "        if r[estado_atual, j] > 0:\n",
    "            acao_possivel.append(j)\n",
    "    proximo_estado = np.random.choice(acao_possivel)\n",
    "    \n",
    "    #Diferença temporal\n",
    "    TD = r[estado_atual, proximo_estado] + gamma*Q[proximo_estado, np.argmax(Q[proximo_estado])] - Q[estado_atual, proximo_estado]\n",
    "    \n",
    "    #Atualizacao de Q pela equacao de Bellman\n",
    "    Q[estado_atual,proximo_estado] = Q[estado_atual,proximo_estado] + alpha*TD"
=======
   "execution_count": 106,
   "metadata": {},
   "outputs": [],
   "source": [
    "import numpy as np\n",
    "num_samples = 3\n",
    "desired_mean = 1.0\n",
    "desired_std_dev = 4.0\n",
    "\n",
    "samples = abs(np.random.normal(loc=0.0, scale=desired_std_dev, size=num_samples))"
   ]
  },
  {
   "cell_type": "code",
   "execution_count": 170,
   "metadata": {},
   "outputs": [
    {
     "data": {
      "text/plain": [
       "8.298291291806486"
      ]
     },
     "execution_count": 170,
     "metadata": {},
     "output_type": "execute_result"
    }
   ],
   "source": [
    "mu, sigma = 1, 4\n",
    "abs(np.random.normal(mu, sigma, 3)).sum()"
   ]
  },
  {
   "cell_type": "code",
   "execution_count": 528,
   "metadata": {},
   "outputs": [
    {
     "name": "stdout",
     "output_type": "stream",
     "text": [
      "Ferrovia ['Castro'] \n",
      "escalados 1\n",
      "\n",
      "Hidrografia ['Danilo', 'Paulo', 'Gustavo Ramos', 'Viana', 'Rute Daniela', 'Cialla', 'Colleto'] \n",
      "escalados ['Paulo']\n",
      "\n",
      "via_deslocamento ['Andre', 'Gustavo Ramos', 'Henrique Pires', 'Viana', 'Mendonca', 'Rute Daniela', 'Cialla', 'Colleto'] \n",
      "escalados ['Andre' 'Henrique Pires' 'Cialla' 'Rute Daniela' 'Colleto']\n"
     ]
    }
   ],
   "source": [
    "import time\n",
    "\n",
    "if ferrovia['autorizado'] == 1:\n",
    "    escalados_ferrovia = []\n",
    "    for i in range(len(funcionarios)):\n",
    "        if subfases['ferrovia'] in funcionarios[i]['habilidades']:\n",
    "            escalados_ferrovia.append(funcionarios[i]['nome'])\n",
    "    qtd_escalados = 1\n",
    "    print('Ferrovia', escalados_ferrovia, '\\nescalados', qtd_escalados)\n",
    "    #qtd_escalados = np.random.choice(escalados_ferrovia, size=np.random.randint(0, len(escalados_ferrovia)), replace=False)\n",
    "    mu, sigma = ferrovia['media_horas'], ferrovia['std_horas']\n",
    "    tempo_random = abs(np.random.normal(mu, sigma, 1))\n",
    "    tempo_ferrovia = ferrovia['tipo']*tempo_random/qtd_escalados\n",
    "    tempo_total['ferrovia'] = tempo_ferrovia[0]\n",
    "\n",
    "if hidro_alt['autorizado'] == 1:\n",
    "    escalados_hidrovia = []\n",
    "    for i in range(len(funcionarios)):\n",
    "        if subfases['hidrografia'] in funcionarios[i]['habilidades']:\n",
    "            escalados_hidrovia.append(funcionarios[i]['nome'])\n",
    "    qtd_escalados = np.random.choice(escalados_hidrovia, size=np.random.randint(1, len(escalados_hidrovia)), replace=False)\n",
    "    print('\\nHidrografia', escalados_hidrovia, '\\nescalados', qtd_escalados)\n",
    "    mu, sigma = hidro_alt['media_horas'], hidro_alt['std_horas']\n",
    "    tempo_hidrografia = hidro_alt['tipo']*abs(np.random.normal(mu, sigma, 1))/len(qtd_escalados)    \n",
    "    \n",
    "    #Atualizando tempos\n",
    "    tempo_total['hidrografia'] = tempo_hidrografia[0]\n",
    "\n",
    "    #Atualizando estados\n",
    "    hidro_alt['finalizado'] = 1\n",
    "\n",
    "via_deslocamento['autorizado'] = 1\n",
    "if via_deslocamento['autorizado'] == 1:\n",
    "    escalados_via = []\n",
    "    for i in range(len(funcionarios)):\n",
    "        if subfases['via_deslocamento'] in funcionarios[i]['habilidades']:\n",
    "            escalados_via.append(funcionarios[i]['nome'])\n",
    "    qtd_escalados = np.random.choice(escalados_via, size=np.random.randint(1, len(escalados_via)), replace=False)\n",
    "    print('\\nvia_deslocamento', escalados_via, '\\nescalados', qtd_escalados)\n",
    "    mu, sigma = via_deslocamento['media_horas'], via_deslocamento['std_horas']\n",
    "    tempo_via = via_deslocamento['tipo']*abs(np.random.normal(mu, sigma, 1))/len(qtd_escalados)    \n",
    "    \n",
    "    #Atualizando tempos\n",
    "    tempo_total['via_deslocamento'] = tempo_via[0]\n",
    "\n",
    "    #Atualizando estados\n",
    "    via_deslocamento['finalizado'] = 1\n",
    "\n",
    "\n",
    "area_edificada['autorizado'] = 1\n",
    "if area_edificada['autorizado'] == 1:\n",
    "    escalados_area_edificada = []\n",
    "    for i in range(len(funcionarios)):\n",
    "        if subfases['area_edificada'] in funcionarios[i]['habilidades']:\n",
    "            escalados_area_edificada.append(funcionarios[i]['nome'])\n",
    "    qtd_escalados = np.random.choice(escalados_area_edificada, size=np.random.randint(1, len(escalados_area_edificada)), replace=False)\n",
    "    print('\\nvarea edificada', escalados_area_edificada, '\\nescalados', qtd_escalados)\n",
    "    mu, sigma = area_edificada['media_horas'], area_edificada['std_horas']\n",
    "    tempo_area_edificada = area_edificada['tipo']*abs(np.random.normal(mu, sigma, 1))/len(qtd_escalados)    \n",
    "    \n",
    "    #Atualizando tempos\n",
    "    tempo_total['area_edificada'] = tempo_area_edificada[0]\n",
    "\n",
    "    #Atualizando estados\n",
    "    area_edificada['finalizado'] = 1"
   ]
  },
  {
   "cell_type": "code",
   "execution_count": 571,
   "metadata": {},
   "outputs": [
    {
     "name": "stdout",
     "output_type": "stream",
     "text": [
      "\n",
      "varea edificada ['Danilo', 'Paulo', 'Castro'] \n",
      "escalados ['Paulo' 'Danilo']\n"
     ]
    }
   ],
   "source": [
    "area_edificada['autorizado'] = 1\n",
    "if area_edificada['autorizado'] == 1:\n",
    "    escalados_area_edificada = []\n",
    "    for i in range(len(funcionarios)):\n",
    "        if subfases['area_edificada'] in funcionarios[i]['habilidades']:\n",
    "            escalados_area_edificada.append(funcionarios[i]['nome'])\n",
    "    qtd_escalados = np.random.choice(escalados_area_edificada, size=np.random.randint(1, len(escalados_area_edificada)), replace=False)\n",
    "    print('\\nvarea edificada', escalados_area_edificada, '\\nescalados', qtd_escalados)\n",
    "    mu, sigma = area_edificada['media_horas'], area_edificada['std_horas']\n",
    "    tempo_area_edificada = area_edificada['tipo']*abs(np.random.normal(mu, sigma, 1))/len(qtd_escalados)    \n",
    "    \n",
    "    #Atualizando tempos\n",
    "    tempo_total['area_edificada'] = tempo_area_edificada[0]\n",
    "\n",
    "    #Atualizando estados\n",
    "    area_edificada['finalizado'] = 1"
>>>>>>> d41d165471f9ba7d4c21e3e0cfdc9450b1019df3
   ]
  },
  {
   "cell_type": "code",
<<<<<<< HEAD
   "execution_count": 47,
=======
   "execution_count": 572,
>>>>>>> d41d165471f9ba7d4c21e3e0cfdc9450b1019df3
   "metadata": {},
   "outputs": [
    {
     "data": {
      "text/plain": [
<<<<<<< HEAD
       "array([[ 0,  8,  1,  0,  0,  0,  0,  0,  0,  0,  0,  0],\n",
       "       [ 7,  0,  0,  0,  0, 10,  0,  0,  0,  0,  0,  0],\n",
       "       [ 0,  0,  0,  0,  0,  0,  0,  0,  0,  0,  0,  0],\n",
       "       [ 0,  0,  0,  0,  0,  0,  0,  0,  0,  0,  0,  0],\n",
       "       [ 0,  0,  0,  0,  0,  0,  0,  0,  0,  0,  0,  0],\n",
       "       [ 0,  0,  0,  0,  0,  0,  0,  0,  0,  0,  0,  0],\n",
       "       [ 0,  0,  0,  0,  0,  0,  0,  0,  0,  0,  0,  0],\n",
       "       [ 0,  0,  0,  0,  0,  0,  0,  0,  0,  0,  0,  0],\n",
       "       [ 0,  0,  0,  0,  0,  0,  0,  0,  0,  0,  0,  0],\n",
       "       [ 0,  0,  0,  0,  0,  0,  0,  0,  0,  0,  0,  0],\n",
       "       [ 0,  0,  0,  0,  0,  0,  0,  0,  0,  0,  0,  0],\n",
       "       [ 0,  0,  0,  0,  0,  0,  0,  0,  0,  0,  0,  0]])"
      ]
     },
     "execution_count": 47,
=======
       "{'ferrovia': 153.48065429335026,\n",
       " 'hidrografia': 2208.487317206511,\n",
       " 'via_deslocamento': 148.9889385140529,\n",
       " 'elementos_varios': 0,\n",
       " 'limites_especiais': 0,\n",
       " 'toponimos': 0,\n",
       " 'area_edificada': 288.6575666112438,\n",
       " 'planimetria': 0,\n",
       " 'vegetacao': 0,\n",
       " 'cq_tematica': 0,\n",
       " 'validacao': 0,\n",
       " 'edicao': 0}"
      ]
     },
     "execution_count": 572,
>>>>>>> d41d165471f9ba7d4c21e3e0cfdc9450b1019df3
     "metadata": {},
     "output_type": "execute_result"
    }
   ],
   "source": [
<<<<<<< HEAD
    "Q.astype(int)"
=======
    "tempo_total"
>>>>>>> d41d165471f9ba7d4c21e3e0cfdc9450b1019df3
   ]
  },
  {
   "cell_type": "code",
   "execution_count": null,
   "metadata": {},
   "outputs": [],
   "source": []
  }
 ],
 "metadata": {
  "interpreter": {
   "hash": "b3d3522493934ff0138aee2c6dff330d5dccf278757c2f33119be5c9d92446bf"
  },
  "kernelspec": {
   "display_name": "Python 3.9.5 64-bit",
   "name": "python3"
  },
  "language_info": {
   "codemirror_mode": {
    "name": "ipython",
    "version": 3
   },
   "file_extension": ".py",
   "mimetype": "text/x-python",
   "name": "python",
   "nbconvert_exporter": "python",
   "pygments_lexer": "ipython3",
   "version": "3.9.5"
  },
  "orig_nbformat": 4
 },
 "nbformat": 4,
 "nbformat_minor": 2
}
